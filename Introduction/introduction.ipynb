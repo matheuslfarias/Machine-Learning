{
 "metadata": {
  "language_info": {
   "codemirror_mode": {
    "name": "ipython",
    "version": 3
   },
   "file_extension": ".py",
   "mimetype": "text/x-python",
   "name": "python",
   "nbconvert_exporter": "python",
   "pygments_lexer": "ipython3",
   "version": "3.8.5-final"
  },
  "orig_nbformat": 2,
  "kernelspec": {
   "name": "python38564bitroadmapef1d83ce2f3f4b56955b0c6fc54eef95",
   "display_name": "Python 3.8.5 64-bit ('roadmap')",
   "language": "python"
  }
 },
 "nbformat": 4,
 "nbformat_minor": 2,
 "cells": [
  {
   "source": [
    "## Getting started with Machine Learning\n",
    "\n",
    "This notebook discus the categories of machine learning problems, and terminologies used in the field of machine learning.\n",
    "\n",
    "## Types of machine learning problems\n",
    "1. **On basis of the nature of the learning “signal” or “feedback” available to a learning system**\n",
    "* **Supervised Learning:** The computer is presented with example inputs and their desired outputs, given by a \"teacher\", and the goal is to learn a general rule that maps inputs to outputs. The trainning process continues until the model achives the desired level of accuracy on the training data. Some real-life examples are:\n",
    "    * **Image Classification:** You train with images/labels. Then in the future you give a new image expecting that the computer will recognize the new object.\n",
    "    * **Market Prediction/Regression:** You train the computer with historical market data and ask the computer to predict the new price in the future.\n",
    "        \n",
    "* **Unsupervised Learning:** No labels are given to the algorithm, leaving it on its owns to find structure in the input. It is used to Clustering population in different groups. Unsupervised learning can be a goal in itself(discovering hidden partterns in data).\n",
    "    * **Clustering:** You ask the computer to separete similar data into clusters, this essential in reasearch and science.\n",
    "    * **High Dimension Vision:** Use the computer to help us visualize high dimension data.\n",
    "    * **Generative Models:** After a model captures the probability distribution of yout input data, it will be able to generate more data. This can be very useful to make your classifier more robust.\n",
    "\n",
    "\n",
    "Illustratively:\n",
    "\n",
    "<p float=\"left\">\n",
    "  <img src=\"images/supervised.png\" width=\"250\" />\n",
    "  <img src=\"images/unsupervised.png\" width=\"250\" />\n",
    "</p>\n",
    "\n",
    "As you can see clearly, for the first image we can clearly see that the data in supervised learning is labeled where as data in unsupervised learning is unlabelled.\n",
    "\n",
    "\n"
   ],
   "cell_type": "markdown",
   "metadata": {}
  }
 ]
}
